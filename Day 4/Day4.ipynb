{
 "cells": [
  {
   "cell_type": "markdown",
   "metadata": {},
   "source": [
    "# Question 1:\n",
    "Research on whether addition, subtraction, multiplication, division, floor division and modulo\n",
    "operations be performed on complex numbers. Based on your study, implement a Python\n",
    "program to demonstrate these operations."
   ]
  },
  {
   "cell_type": "code",
   "execution_count": 1,
   "metadata": {},
   "outputs": [
    {
     "name": "stdout",
     "output_type": "stream",
     "text": [
      "The addition for complex number is:  (5+13j)\n",
      "The subtraction for complex number is:  (-1-1j)\n",
      "The multiplication for complex number is:  (-36+32j)\n",
      "The division for complex number is:  (0.8275862068965518+0.06896551724137928j)\n"
     ]
    }
   ],
   "source": [
    "a = 2+6j\n",
    "\n",
    "b = 3+7j\n",
    "\n",
    "c = a + b\n",
    "print(\"The addition for complex number is: \",c)\n",
    "\n",
    "c = a - b\n",
    "print(\"The subtraction for complex number is: \",c)\n",
    "\n",
    "c = a * b\n",
    "print(\"The multiplication for complex number is: \",c)\n",
    "\n",
    "c = a/b\n",
    "print(\"The division for complex number is: \",c)"
   ]
  },
  {
   "cell_type": "markdown",
   "metadata": {},
   "source": [
    "# Question 2 : \n",
    "Research on range() functions and its parameters. Create a markdown cell and write in your own words (no copy-paste from google please) what you understand about it. Implement a small program of your choice on the same.\n",
    "\n",
    "Range() function contains 3 parameters\n",
    "     1.Start 2.Stop 3.Steps\n",
    "\n",
    "Here, Start and Steps can be optional both have default 0 and 1 respectively. But stop is neccesary because its not included and should be spcified where to stop."
   ]
  },
  {
   "cell_type": "code",
   "execution_count": 2,
   "metadata": {},
   "outputs": [
    {
     "name": "stdout",
     "output_type": "stream",
     "text": [
      "Enter a Number: 7\n",
      "\n",
      "1 \n",
      "2 2 \n",
      "3 3 3 \n",
      "4 4 4 4 \n",
      "5 5 5 5 5 \n",
      "6 6 6 6 6 6 \n"
     ]
    }
   ],
   "source": [
    "a = int(input(\"Enter a Number: \"))\n",
    "\n",
    "for x in range(a):\n",
    "    for y in range(x):\n",
    "        print(x,end=\" \")\n",
    "    print()"
   ]
  },
  {
   "cell_type": "markdown",
   "metadata": {},
   "source": [
    "# Question 3:\n",
    "Consider two numbers. Perform their subtraction and if the result of subtraction is greater than\n",
    "25, print their multiplication result else print their division result.\n"
   ]
  },
  {
   "cell_type": "code",
   "execution_count": 3,
   "metadata": {},
   "outputs": [
    {
     "name": "stdout",
     "output_type": "stream",
     "text": [
      "Enter the fisrt number: 96\n",
      "Enter the second number: 45\n",
      "Subtraction is:  51\n",
      "Multiplication is:  4320\n"
     ]
    }
   ],
   "source": [
    "a = int(input(\"Enter the fisrt number: \"))\n",
    "b = int(input(\"Enter the second number: \"))\n",
    "\n",
    "c = a - b\n",
    "print(\"Subtraction is: \",c)\n",
    "if(c>25):\n",
    "    d = a*b\n",
    "    print(\"Multiplication is: \",d)\n",
    "else:\n",
    "    d = a/b\n",
    "    print(\"Division is: \",d)"
   ]
  },
  {
   "cell_type": "markdown",
   "metadata": {},
   "source": [
    "# Question 4:\n",
    "Consider a list of 10 elements of integer values. If the number in the list is divisible by 2, print the\n",
    "result as \"square of that number minus 2\"."
   ]
  },
  {
   "cell_type": "code",
   "execution_count": 4,
   "metadata": {},
   "outputs": [
    {
     "name": "stdout",
     "output_type": "stream",
     "text": [
      "12   square of that number minus 2\n",
      "18   square of that number minus 2\n",
      "10   square of that number minus 2\n",
      "66   square of that number minus 2\n",
      "34   square of that number minus 2\n",
      "30   square of that number minus 2\n",
      "70   square of that number minus 2\n"
     ]
    }
   ],
   "source": [
    "a = [12,7,18,25,10,66,34,89,30,70]\n",
    "\n",
    "for i in a:\n",
    "    if(i%2==0):\n",
    "        print(i,\"  square of that number minus 2\",)"
   ]
  },
  {
   "cell_type": "markdown",
   "metadata": {},
   "source": [
    "# Question 5:\n",
    "Consider a list of 10 elements. Print all the elements in the list which are greater than 7 when that\n",
    "number is divided 2."
   ]
  },
  {
   "cell_type": "code",
   "execution_count": 5,
   "metadata": {},
   "outputs": [
    {
     "name": "stdout",
     "output_type": "stream",
     "text": [
      "18\n",
      "25\n",
      "66\n",
      "34\n",
      "89\n",
      "30\n",
      "70\n"
     ]
    }
   ],
   "source": [
    "a = [12,7,18,25,10,66,34,89,30,70]\n",
    "\n",
    "for i in a:\n",
    "    if(i//2>7):\n",
    "        print(i)"
   ]
  },
  {
   "cell_type": "code",
   "execution_count": null,
   "metadata": {},
   "outputs": [],
   "source": []
  }
 ],
 "metadata": {
  "kernelspec": {
   "display_name": "Python 3",
   "language": "python",
   "name": "python3"
  },
  "language_info": {
   "codemirror_mode": {
    "name": "ipython",
    "version": 3
   },
   "file_extension": ".py",
   "mimetype": "text/x-python",
   "name": "python",
   "nbconvert_exporter": "python",
   "pygments_lexer": "ipython3",
   "version": "3.7.3"
  }
 },
 "nbformat": 4,
 "nbformat_minor": 2
}
