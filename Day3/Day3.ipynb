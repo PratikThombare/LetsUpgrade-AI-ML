{
 "cells": [
  {
   "cell_type": "markdown",
   "metadata": {},
   "source": [
    "# Question 1 :\n",
    "Write a program to subtract two complex numbers in Python."
   ]
  },
  {
   "cell_type": "code",
   "execution_count": 1,
   "metadata": {},
   "outputs": [
    {
     "name": "stdout",
     "output_type": "stream",
     "text": [
      "Enter the first complex number 2+6j\n",
      "Enter the second complex number 6-7j\n",
      "The subtraction of two complex number is:  (-4+13j)\n"
     ]
    }
   ],
   "source": [
    "x = complex(input(\"Enter the first complex number \"))\n",
    "y = complex(input(\"Enter the second complex number \"))\n",
    "\n",
    "z = x - y\n",
    "\n",
    "print(\"The subtraction of two complex number is: \",z)"
   ]
  },
  {
   "cell_type": "markdown",
   "metadata": {},
   "source": [
    "# Question 2 :\n",
    "Write a program to find the fourth root of a number.\n"
   ]
  },
  {
   "cell_type": "code",
   "execution_count": 2,
   "metadata": {},
   "outputs": [
    {
     "name": "stdout",
     "output_type": "stream",
     "text": [
      "Enter the number: 64\n",
      "The fourth root of the number is:  2.8284271247461903\n"
     ]
    }
   ],
   "source": [
    "a = int(input(\"Enter the number: \"))\n",
    "\n",
    "b = a**(1/4)\n",
    "\n",
    "print(\"The fourth root of the number is: \",b)"
   ]
  },
  {
   "cell_type": "markdown",
   "metadata": {},
   "source": [
    "# Question 3:\n",
    "Write a program to swap two numbers in Python with the help of a temporary variable."
   ]
  },
  {
   "cell_type": "code",
   "execution_count": 3,
   "metadata": {},
   "outputs": [
    {
     "name": "stdout",
     "output_type": "stream",
     "text": [
      "Enter the first number: 56\n",
      "Enter the second number: 89\n",
      "The swapped numbers are: a = 89 b = 56\n"
     ]
    }
   ],
   "source": [
    "a = int(input(\"Enter the first number: \"))\n",
    "b = int(input(\"Enter the second number: \"))\n",
    "\n",
    "temp = a\n",
    "a = b\n",
    "b = temp\n",
    "\n",
    "print(\"The swapped numbers are: a =\",a,\"b =\",b)"
   ]
  },
  {
   "cell_type": "markdown",
   "metadata": {},
   "source": [
    "# Question 4:\n",
    "Write a program to swap two numbers in Python without using a temporary variable."
   ]
  },
  {
   "cell_type": "code",
   "execution_count": 4,
   "metadata": {},
   "outputs": [
    {
     "name": "stdout",
     "output_type": "stream",
     "text": [
      "Enter the first number: 21\n",
      "Enter the second number: 36\n",
      "The swapped numbers are: a = 36 b = 21\n"
     ]
    }
   ],
   "source": [
    "a = int(input(\"Enter the first number: \"))\n",
    "b = int(input(\"Enter the second number: \"))\n",
    "\n",
    "a = a + b\n",
    "b = a - b\n",
    "a = a - b\n",
    "\n",
    "print(\"The swapped numbers are: a =\",a,\"b =\",b)"
   ]
  },
  {
   "cell_type": "markdown",
   "metadata": {},
   "source": [
    "# Question 5:\n",
    "Write a program to convert fahrenheit to kelvin and celsius both."
   ]
  },
  {
   "cell_type": "code",
   "execution_count": 5,
   "metadata": {},
   "outputs": [
    {
     "name": "stdout",
     "output_type": "stream",
     "text": [
      "Enter the degrees in fahrenheit: 106\n",
      "the conversion of fahrenheit to kelvin is:  314.6111111111111\n",
      "the conversion of fahrenheit to celsius is:  41.111111111111114\n"
     ]
    }
   ],
   "source": [
    "a = float(input(\"Enter the degrees in fahrenheit: \"))\n",
    "\n",
    "b = 273.5 + ((a - 32.0) * (5.0/9.0))\n",
    "c  = (a - 32) * 5.0/9.0\n",
    "\n",
    "print(\"the conversion of fahrenheit to kelvin is: \",b)\n",
    "print(\"the conversion of fahrenheit to celsius is: \",c)"
   ]
  },
  {
   "cell_type": "markdown",
   "metadata": {},
   "source": [
    "# Question 6:\n",
    "Write a program to demonstrate all the available data types in Python. Hint: Use type() function.\n"
   ]
  },
  {
   "cell_type": "code",
   "execution_count": 6,
   "metadata": {},
   "outputs": [
    {
     "name": "stdout",
     "output_type": "stream",
     "text": [
      "The type of a is <class 'int'>\n",
      "The type of b is <class 'float'>\n",
      "The type of c is <class 'complex'>\n",
      "The type of d is <class 'str'>\n",
      "The type of e is <class 'list'>\n",
      "The type of f is <class 'tuple'>\n",
      "The type of g is <class 'dict'>\n",
      "The type of h is <class 'set'>\n",
      "The type of i is <class 'bool'>\n"
     ]
    }
   ],
   "source": [
    "a = 25\n",
    "print(\"The type of a is\",type(a))\n",
    "\n",
    "b = 10.0\n",
    "print(\"The type of b is\",type(b))\n",
    "\n",
    "c = 6+21j\n",
    "print(\"The type of c is\", type(c))\n",
    "\n",
    "d = \"AIMLDL\"\n",
    "print(\"The type of d is\",type(d))\n",
    "\n",
    "e = [\"Lets\", \"get\", \"started\"]\n",
    "print(\"The type of e is\",type(e)) \n",
    "\n",
    "f = (\"Never\", \"Give\", \"Up\")\n",
    "print(\"The type of f is\",type(f))\n",
    "\n",
    "g = {\"Name\" : \"Pratik\", \"age\" : 21}\t\n",
    "print(\"The type of g is\",type(g))\n",
    "\n",
    "h = {\"python\", \"c\", \"java\"}\t\n",
    "print(\"The type of h is\",type(h))\n",
    "\n",
    "i = True\n",
    "print(\"The type of i is\",type(i))"
   ]
  },
  {
   "cell_type": "markdown",
   "metadata": {},
   "source": [
    "Question 7: Create a Markdown cell in jupyter and list the steps discussed in the session by Dr. Darshan Ingle sir to create Github profile and upload Githubs Assignment link.\n",
    "\n",
    "Step 1: Sign in/login to www.github.com. \n",
    "Step 2: Create a Repository with the name LetsUpgrade AI-ML.(should be public)\n",
    "Step 3: If you have completed the assignment the in github select the repository.\n",
    "Step 4: Select the Uploading an existing file and upload the file. Step 5: Once uploaded select the url and paste in the form provided by the LetsUpgrade"
   ]
  },
  {
   "cell_type": "code",
   "execution_count": null,
   "metadata": {},
   "outputs": [],
   "source": []
  }
 ],
 "metadata": {
  "kernelspec": {
   "display_name": "Python 3",
   "language": "python",
   "name": "python3"
  },
  "language_info": {
   "codemirror_mode": {
    "name": "ipython",
    "version": 3
   },
   "file_extension": ".py",
   "mimetype": "text/x-python",
   "name": "python",
   "nbconvert_exporter": "python",
   "pygments_lexer": "ipython3",
   "version": "3.7.3"
  }
 },
 "nbformat": 4,
 "nbformat_minor": 2
}
