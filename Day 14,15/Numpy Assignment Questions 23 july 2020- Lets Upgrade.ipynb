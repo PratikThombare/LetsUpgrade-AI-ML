{
 "cells": [
  {
   "cell_type": "markdown",
   "metadata": {},
   "source": [
    "# 1. Create a 3x3x3 array with random values "
   ]
  },
  {
   "cell_type": "code",
   "execution_count": 2,
   "metadata": {},
   "outputs": [
    {
     "data": {
      "text/plain": [
       "array([[[6.23042070e-307, 4.67296746e-307, 1.69121096e-306],\n",
       "        [7.56602523e-307, 4.45060183e-308, 1.29061821e-306],\n",
       "        [9.34608432e-307, 7.56599807e-307, 8.90104239e-307]],\n",
       "\n",
       "       [[1.24610383e-306, 1.69118108e-306, 8.06632139e-308],\n",
       "        [1.20160711e-306, 1.69119330e-306, 8.90098127e-307],\n",
       "        [1.95820216e-306, 7.56604561e-307, 8.45590539e-307]],\n",
       "\n",
       "       [[1.11261298e-306, 6.23054633e-307, 1.42418036e-306],\n",
       "        [9.34598247e-307, 9.79094970e-307, 1.78019354e-306],\n",
       "        [1.69120552e-306, 2.56765117e-312, 2.25179982e+015]]])"
      ]
     },
     "execution_count": 2,
     "metadata": {},
     "output_type": "execute_result"
    }
   ],
   "source": [
    "import numpy as np\n",
    "random = np.empty((3,3,3))\n",
    "random"
   ]
  },
  {
   "cell_type": "markdown",
   "metadata": {},
   "source": [
    "# 2.Create a 5x5 matrix with values 1,2,3,4 just below the diagonal"
   ]
  },
  {
   "cell_type": "code",
   "execution_count": 3,
   "metadata": {},
   "outputs": [
    {
     "data": {
      "text/plain": [
       "array([[0, 0, 0, 0, 0],\n",
       "       [1, 0, 0, 0, 0],\n",
       "       [0, 2, 0, 0, 0],\n",
       "       [0, 0, 3, 0, 0],\n",
       "       [0, 0, 0, 4, 0]])"
      ]
     },
     "execution_count": 3,
     "metadata": {},
     "output_type": "execute_result"
    }
   ],
   "source": [
    "diagonal = np.diag(1+np.arange(4), k = -1)\n",
    "diagonal"
   ]
  },
  {
   "cell_type": "markdown",
   "metadata": {},
   "source": [
    "# 3.Create a 8x8 matrix and fill it with a checkerboard pattern"
   ]
  },
  {
   "cell_type": "code",
   "execution_count": 4,
   "metadata": {},
   "outputs": [
    {
     "data": {
      "text/plain": [
       "array([[0, 1, 0, 1, 0, 1, 0, 1],\n",
       "       [1, 0, 1, 0, 1, 0, 1, 0],\n",
       "       [0, 1, 0, 1, 0, 1, 0, 1],\n",
       "       [1, 0, 1, 0, 1, 0, 1, 0],\n",
       "       [0, 1, 0, 1, 0, 1, 0, 1],\n",
       "       [1, 0, 1, 0, 1, 0, 1, 0],\n",
       "       [0, 1, 0, 1, 0, 1, 0, 1],\n",
       "       [1, 0, 1, 0, 1, 0, 1, 0]])"
      ]
     },
     "execution_count": 4,
     "metadata": {},
     "output_type": "execute_result"
    }
   ],
   "source": [
    "checkerboard = np.ones((3,3))\n",
    "checkerboard = np.zeros((8,8),dtype=int)\n",
    "checkerboard[1::2,::2] = 1\n",
    "checkerboard[::2,1::2] = 1\n",
    "checkerboard"
   ]
  },
  {
   "cell_type": "markdown",
   "metadata": {},
   "source": [
    "# 4. Normalize a 5x5 random matrix"
   ]
  },
  {
   "cell_type": "code",
   "execution_count": 6,
   "metadata": {},
   "outputs": [
    {
     "name": "stdout",
     "output_type": "stream",
     "text": [
      "Before normalization:\n",
      "[[0.13661851 0.30302476 0.67338407 0.16506119 0.88480206]\n",
      " [0.52766898 0.94303579 0.85340628 0.66037416 0.49089887]\n",
      " [0.70896549 0.29059202 0.70674235 0.73793424 0.13382216]\n",
      " [0.85990855 0.41130809 0.71558658 0.09041895 0.51363893]\n",
      " [0.15999134 0.95425936 0.19400124 0.51205752 0.37898112]]\n",
      "After normalization:\n",
      "[[0.05348159 0.246117   0.6748528  0.08640745 0.91959476]\n",
      " [0.50616992 0.98700736 0.88325033 0.65979225 0.46360406]\n",
      " [0.71604261 0.2317246  0.71346905 0.74957745 0.05024447]\n",
      " [0.8907775  0.37146808 0.72370732 0.         0.48992844]\n",
      " [0.08053848 1.         0.11990906 0.48809777 0.3340457 ]]\n"
     ]
    }
   ],
   "source": [
    "a= np.random.random((5,5))\n",
    "print(\"Before normalization:\")\n",
    "print(a)\n",
    "amax, amin = a.max(), a.min()\n",
    "a = (a - amin)/(amax - amin)\n",
    "print(\"After normalization:\")\n",
    "print(a)"
   ]
  },
  {
   "cell_type": "markdown",
   "metadata": {},
   "source": [
    "# 5.  How to find common values between two arrays?"
   ]
  },
  {
   "cell_type": "code",
   "execution_count": 7,
   "metadata": {},
   "outputs": [
    {
     "name": "stdout",
     "output_type": "stream",
     "text": [
      "Array1:  [ 2  4  6  8 10]\n",
      "Array2:  [6, 8, 12]\n",
      "Common values between two arrays:\n",
      "[6 8]\n"
     ]
    }
   ],
   "source": [
    "array1 = np.array([2,4,6,8,10])\n",
    "print(\"Array1: \",array1)\n",
    "\n",
    "array2 = [6,8,12]\n",
    "print(\"Array2: \",array2)\n",
    "\n",
    "print(\"Common values between two arrays:\")\n",
    "print(np.intersect1d(array1, array2))"
   ]
  },
  {
   "cell_type": "markdown",
   "metadata": {},
   "source": [
    "# 6.How to get the dates of yesterday, today and tomorrow?"
   ]
  },
  {
   "cell_type": "code",
   "execution_count": 8,
   "metadata": {},
   "outputs": [
    {
     "name": "stdout",
     "output_type": "stream",
     "text": [
      "Yestraday:  2020-07-25\n",
      "Today:  2020-07-26\n",
      "Tomorrow:  2020-07-27\n"
     ]
    }
   ],
   "source": [
    "yesterday = np.datetime64('today', 'D') - np.timedelta64(1, 'D')\n",
    "print(\"Yestraday: \",yesterday)\n",
    "\n",
    "today     = np.datetime64('today', 'D')\n",
    "print(\"Today: \",today)\n",
    "\n",
    "tomorrow  = np.datetime64('today', 'D') + np.timedelta64(1, 'D')\n",
    "print(\"Tomorrow: \",tomorrow)"
   ]
  },
  {
   "cell_type": "markdown",
   "metadata": {},
   "source": [
    "# 7. Consider two random array A and B, check if they are equal"
   ]
  },
  {
   "cell_type": "code",
   "execution_count": 12,
   "metadata": {},
   "outputs": [
    {
     "name": "stdout",
     "output_type": "stream",
     "text": [
      "First array:\n",
      "[[0.95893117 0.90581182 0.84439266]\n",
      " [0.33499823 0.15246223 0.07407932]\n",
      " [0.31486624 0.36467262 0.25892723]]\n",
      "Second array:\n",
      "[[0.84364831 0.37981678 0.55245064]\n",
      " [0.16669008 0.66994584 0.73564266]\n",
      " [0.27562436 0.94452647 0.50993025]]\n",
      "Check if they are equal?\n",
      "False\n"
     ]
    }
   ],
   "source": [
    "array1 = np.random.random((3,3))\n",
    "print(\"First array:\")\n",
    "print(array1)\n",
    "\n",
    "array2 = np.random.random((3,3))\n",
    "print(\"Second array:\")\n",
    "print(array2)\n",
    "\n",
    "print(\"Check if they are equal?\")\n",
    "equal = np.allclose(array1, array2)\n",
    "print(equal)"
   ]
  },
  {
   "cell_type": "markdown",
   "metadata": {},
   "source": [
    "# 8.Create random vector of size 10 and replace the maximum value by 0 "
   ]
  },
  {
   "cell_type": "code",
   "execution_count": 13,
   "metadata": {},
   "outputs": [
    {
     "name": "stdout",
     "output_type": "stream",
     "text": [
      "Array: \n",
      "[0.29894214 0.00863961 0.75630954 0.96626873 0.46664897 0.34424722\n",
      " 0.28666468 0.35440298 0.47343093 0.0071753 ]\n",
      "Maximum value replaced by 0:\n",
      "[0.29894214 0.00863961 0.75630954 0.         0.46664897 0.34424722\n",
      " 0.28666468 0.35440298 0.47343093 0.0071753 ]\n"
     ]
    }
   ],
   "source": [
    "vector = np.random.random(10)\n",
    "print(\"Array: \")\n",
    "print(vector)\n",
    "\n",
    "vector[vector.argmax()] = 0\n",
    "print(\"Maximum value replaced by 0:\")\n",
    "print(vector)"
   ]
  },
  {
   "cell_type": "markdown",
   "metadata": {},
   "source": [
    "# 9. How to print all the values of an array?"
   ]
  },
  {
   "cell_type": "code",
   "execution_count": 16,
   "metadata": {},
   "outputs": [
    {
     "name": "stdout",
     "output_type": "stream",
     "text": [
      "[[1. 1. 1. 1. 1. 1.]\n",
      " [1. 1. 1. 1. 1. 1.]\n",
      " [1. 1. 1. 1. 1. 1.]\n",
      " [1. 1. 1. 1. 1. 1.]\n",
      " [1. 1. 1. 1. 1. 1.]\n",
      " [1. 1. 1. 1. 1. 1.]]\n"
     ]
    }
   ],
   "source": [
    "import sys\n",
    "a = np.ones((6,6))\n",
    "np.set_printoptions(threshold=sys.maxsize)\n",
    "print(a)"
   ]
  },
  {
   "cell_type": "markdown",
   "metadata": {},
   "source": [
    "# 10.Subtract the mean of each row of a matrix"
   ]
  },
  {
   "cell_type": "code",
   "execution_count": 17,
   "metadata": {},
   "outputs": [
    {
     "name": "stdout",
     "output_type": "stream",
     "text": [
      "[[0.43843885 0.94547758 0.81071598 0.92390736]\n",
      " [0.26253192 0.84543532 0.96949663 0.56937148]\n",
      " [0.85421948 0.6002792  0.3584616  0.05412524]\n",
      " [0.73455829 0.88788505 0.03277996 0.3284801 ]]\n",
      "\n",
      "Subtract the mean of each row of the said matrix:\n",
      "\n",
      "[[-0.34119609  0.16584264  0.03108104  0.14427242]\n",
      " [-0.39917692  0.18372648  0.3077878  -0.09233736]\n",
      " [ 0.3874481   0.13350783 -0.10830978 -0.41264614]\n",
      " [ 0.23863244  0.3919592  -0.46314589 -0.16744575]]\n"
     ]
    }
   ],
   "source": [
    "matrix = np.random.rand(4,4)\n",
    "print(matrix)\n",
    "print(\"\\nSubtract the mean of each row of the said matrix:\\n\")\n",
    "mean = matrix - matrix.mean(axis=1, keepdims=True)\n",
    "print(mean)\n"
   ]
  },
  {
   "cell_type": "markdown",
   "metadata": {},
   "source": [
    "# 11.Consider a given vector, how to add 1 to each element indexed by a second vector (be careful with repeated indices)? "
   ]
  },
  {
   "cell_type": "code",
   "execution_count": 18,
   "metadata": {},
   "outputs": [
    {
     "name": "stdout",
     "output_type": "stream",
     "text": [
      "[1. 1. 1. 1. 1.]\n",
      "[0 3 4 3 3 0 1 1 0 2]\n",
      "[4. 3. 2. 4. 2.]\n"
     ]
    }
   ],
   "source": [
    "a = np.ones(5)\n",
    "print(a)\n",
    "\n",
    "b = np.random.randint(0,len(a),10)\n",
    "print(b)\n",
    "\n",
    "a += np.bincount(b, minlength=len(a))\n",
    "print(a)\n"
   ]
  },
  {
   "cell_type": "markdown",
   "metadata": {},
   "source": [
    "# 12.How to get the diagonal of a dot product?"
   ]
  },
  {
   "cell_type": "code",
   "execution_count": 19,
   "metadata": {},
   "outputs": [
    {
     "name": "stdout",
     "output_type": "stream",
     "text": [
      "[[0 1 2]\n",
      " [3 4 5]\n",
      " [6 7 8]] \n",
      "\n",
      "[[0 1 2]\n",
      " [3 4 5]\n",
      " [6 7 8]] \n",
      "\n",
      "[ 15  54 111]\n"
     ]
    }
   ],
   "source": [
    "a = np.arange(9).reshape(3, 3)\n",
    "print(a,\"\\n\")\n",
    "\n",
    "b = np.arange(9).reshape(3, 3)\n",
    "print(b,\"\\n\")\n",
    "\n",
    "c = np.diag(a.dot(b))\n",
    "print(c)"
   ]
  },
  {
   "cell_type": "markdown",
   "metadata": {},
   "source": [
    "# 13.How to find the most frequent value in an array?"
   ]
  },
  {
   "cell_type": "code",
   "execution_count": 21,
   "metadata": {},
   "outputs": [
    {
     "name": "stdout",
     "output_type": "stream",
     "text": [
      "[9 1 1 8 3 2 4 9 0 0 6 1 7 7 6 4 0 8 7 3 1 9 4 2 4 6 5 2 4 4 6 9 8 9 5 0 5\n",
      " 1 3 6 9 3 1 1 9 3 9 3 3 6]\n",
      "Most frequent value in the above array:\n",
      "9\n"
     ]
    }
   ],
   "source": [
    "array = np.random.randint(0,10,50)\n",
    "print(array)\n",
    "\n",
    "print(\"Most frequent value in the above array:\")\n",
    "print(np.bincount(array).argmax())"
   ]
  },
  {
   "cell_type": "markdown",
   "metadata": {},
   "source": [
    "# 14.How to get the n largest values of an array"
   ]
  },
  {
   "cell_type": "code",
   "execution_count": 23,
   "metadata": {},
   "outputs": [
    {
     "name": "stdout",
     "output_type": "stream",
     "text": [
      "[ 10   5   6  12  54  23  87 101 567 234]\n",
      "Maximum value is:\n",
      "[101 234 567]\n"
     ]
    }
   ],
   "source": [
    "a = np.array([10,5,6,12,54,23,87,101,567,234])\n",
    "print(a)\n",
    "n = 3\n",
    "print(\"Maximum value is:\")\n",
    "print (a[np.argsort(a)[-n:]])\n"
   ]
  },
  {
   "cell_type": "markdown",
   "metadata": {},
   "source": [
    "# 15.How to create a record array from a regular array?"
   ]
  },
  {
   "cell_type": "code",
   "execution_count": 25,
   "metadata": {},
   "outputs": [
    {
     "name": "stdout",
     "output_type": "stream",
     "text": [
      "('Jesse', 96.2, 'pinkman')\n",
      "('Gustavo', 1213., 'fring')\n",
      "('Heisenberg', 55., 'White')\n"
     ]
    }
   ],
   "source": [
    "a = np.array(['Jesse','Gustavo','Heisenberg'])\n",
    "b = np.array([96.2,1213,55])\n",
    "c = np.array(['pinkman','fring','White'])\n",
    "result= np.core.records.fromarrays([a, b, c])\n",
    "print(result[0])\n",
    "print(result[1])\n",
    "print(result[2])"
   ]
  },
  {
   "cell_type": "code",
   "execution_count": null,
   "metadata": {},
   "outputs": [],
   "source": []
  }
 ],
 "metadata": {
  "kernelspec": {
   "display_name": "Python 3",
   "language": "python",
   "name": "python3"
  },
  "language_info": {
   "codemirror_mode": {
    "name": "ipython",
    "version": 3
   },
   "file_extension": ".py",
   "mimetype": "text/x-python",
   "name": "python",
   "nbconvert_exporter": "python",
   "pygments_lexer": "ipython3",
   "version": "3.7.3"
  }
 },
 "nbformat": 4,
 "nbformat_minor": 2
}
